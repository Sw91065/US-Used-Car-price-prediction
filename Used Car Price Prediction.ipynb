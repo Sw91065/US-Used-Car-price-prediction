{
 "cells": [
  {
   "cell_type": "code",
   "execution_count": 1,
   "id": "ef5b420b-7850-47bf-9500-ce03b041d9da",
   "metadata": {},
   "outputs": [],
   "source": [
    "import pandas as pd\n",
    "import numpy as np\n",
    "import matplotlib.pyplot as plt\n",
    "import seaborn as sns\n",
    "pd.set_option('display.max_columns',None)\n",
    "import warnings\n",
    "warnings.filterwarnings('ignore')"
   ]
  },
  {
   "cell_type": "code",
   "execution_count": 2,
   "id": "27b19ec2-5d01-4cb0-9ddd-a622a2400b35",
   "metadata": {},
   "outputs": [],
   "source": [
    "data = pd.read_csv('Trimed_used_cars_data.csv')\n",
    "data.drop(columns='Unnamed: 0',inplace=True)"
   ]
  },
  {
   "cell_type": "code",
   "execution_count": 3,
   "id": "e67f4711-b80a-45ec-bf92-a95393549a2e",
   "metadata": {},
   "outputs": [
    {
     "data": {
      "text/html": [
       "<div>\n",
       "<style scoped>\n",
       "    .dataframe tbody tr th:only-of-type {\n",
       "        vertical-align: middle;\n",
       "    }\n",
       "\n",
       "    .dataframe tbody tr th {\n",
       "        vertical-align: top;\n",
       "    }\n",
       "\n",
       "    .dataframe thead th {\n",
       "        text-align: right;\n",
       "    }\n",
       "</style>\n",
       "<table border=\"1\" class=\"dataframe\">\n",
       "  <thead>\n",
       "    <tr style=\"text-align: right;\">\n",
       "      <th></th>\n",
       "      <th>vin</th>\n",
       "      <th>back_legroom</th>\n",
       "      <th>body_type</th>\n",
       "      <th>city</th>\n",
       "      <th>city_fuel_economy</th>\n",
       "      <th>daysonmarket</th>\n",
       "      <th>dealer_zip</th>\n",
       "      <th>description</th>\n",
       "      <th>engine_cylinders</th>\n",
       "      <th>engine_displacement</th>\n",
       "      <th>engine_type</th>\n",
       "      <th>exterior_color</th>\n",
       "      <th>franchise_dealer</th>\n",
       "      <th>franchise_make</th>\n",
       "      <th>front_legroom</th>\n",
       "      <th>fuel_tank_volume</th>\n",
       "      <th>fuel_type</th>\n",
       "      <th>height</th>\n",
       "      <th>highway_fuel_economy</th>\n",
       "      <th>horsepower</th>\n",
       "      <th>interior_color</th>\n",
       "      <th>is_new</th>\n",
       "      <th>latitude</th>\n",
       "      <th>length</th>\n",
       "      <th>listed_date</th>\n",
       "      <th>listing_color</th>\n",
       "      <th>listing_id</th>\n",
       "      <th>longitude</th>\n",
       "      <th>main_picture_url</th>\n",
       "      <th>major_options</th>\n",
       "      <th>make_name</th>\n",
       "      <th>maximum_seating</th>\n",
       "      <th>mileage</th>\n",
       "      <th>model_name</th>\n",
       "      <th>power</th>\n",
       "      <th>price</th>\n",
       "      <th>savings_amount</th>\n",
       "      <th>seller_rating</th>\n",
       "      <th>sp_id</th>\n",
       "      <th>sp_name</th>\n",
       "      <th>torque</th>\n",
       "      <th>transmission</th>\n",
       "      <th>transmission_display</th>\n",
       "      <th>trimId</th>\n",
       "      <th>trim_name</th>\n",
       "      <th>wheel_system</th>\n",
       "      <th>wheel_system_display</th>\n",
       "      <th>wheelbase</th>\n",
       "      <th>width</th>\n",
       "      <th>year</th>\n",
       "    </tr>\n",
       "  </thead>\n",
       "  <tbody>\n",
       "    <tr>\n",
       "      <th>0</th>\n",
       "      <td>1G1ZD5ST5JF222895</td>\n",
       "      <td>38.1 in</td>\n",
       "      <td>Sedan</td>\n",
       "      <td>Bay Shore</td>\n",
       "      <td>27.0</td>\n",
       "      <td>55</td>\n",
       "      <td>11706</td>\n",
       "      <td>Here at Atlantic Chevrolet-Cadillac, 90% of ou...</td>\n",
       "      <td>I4</td>\n",
       "      <td>1500.0</td>\n",
       "      <td>I4</td>\n",
       "      <td>Silver Ice Metallic</td>\n",
       "      <td>True</td>\n",
       "      <td>Chevrolet</td>\n",
       "      <td>42 in</td>\n",
       "      <td>15.8 gal</td>\n",
       "      <td>Gasoline</td>\n",
       "      <td>57.6 in</td>\n",
       "      <td>36.0</td>\n",
       "      <td>160.0</td>\n",
       "      <td>Jet Black</td>\n",
       "      <td>False</td>\n",
       "      <td>40.7333</td>\n",
       "      <td>193.8 in</td>\n",
       "      <td>2020-07-16</td>\n",
       "      <td>SILVER</td>\n",
       "      <td>276675304</td>\n",
       "      <td>-73.2587</td>\n",
       "      <td>https://static.cargurus.com/images/forsale/202...</td>\n",
       "      <td>['Driver Confidence Package', 'Power Package',...</td>\n",
       "      <td>Chevrolet</td>\n",
       "      <td>5 seats</td>\n",
       "      <td>42394.0</td>\n",
       "      <td>Malibu</td>\n",
       "      <td>160 hp @ 5,700 RPM</td>\n",
       "      <td>14639.0</td>\n",
       "      <td>1749</td>\n",
       "      <td>3.447761</td>\n",
       "      <td>314501.0</td>\n",
       "      <td>Atlantic Chevrolet Cadillac</td>\n",
       "      <td>184 lb-ft @ 2,500 RPM</td>\n",
       "      <td>A</td>\n",
       "      <td>6-Speed Automatic</td>\n",
       "      <td>t74365</td>\n",
       "      <td>LT FWD</td>\n",
       "      <td>FWD</td>\n",
       "      <td>Front-Wheel Drive</td>\n",
       "      <td>111.4 in</td>\n",
       "      <td>73 in</td>\n",
       "      <td>2018</td>\n",
       "    </tr>\n",
       "    <tr>\n",
       "      <th>1</th>\n",
       "      <td>JTHSZ5BC5J5008777</td>\n",
       "      <td>27.3 in</td>\n",
       "      <td>Coupe</td>\n",
       "      <td>Bronx</td>\n",
       "      <td>18.0</td>\n",
       "      <td>36</td>\n",
       "      <td>10466</td>\n",
       "      <td>CERTIFIED CLEAN CARFAX!!! One Owner Vehicle - ...</td>\n",
       "      <td>V6</td>\n",
       "      <td>3500.0</td>\n",
       "      <td>V6</td>\n",
       "      <td>Black</td>\n",
       "      <td>True</td>\n",
       "      <td>Jeep</td>\n",
       "      <td>45.4 in</td>\n",
       "      <td>17.4 gal</td>\n",
       "      <td>Gasoline</td>\n",
       "      <td>55.1 in</td>\n",
       "      <td>24.0</td>\n",
       "      <td>311.0</td>\n",
       "      <td>Black</td>\n",
       "      <td>False</td>\n",
       "      <td>40.8847</td>\n",
       "      <td>184.8 in</td>\n",
       "      <td>2020-08-04</td>\n",
       "      <td>BLACK</td>\n",
       "      <td>278352194</td>\n",
       "      <td>-73.8317</td>\n",
       "      <td>https://static.cargurus.com/images/forsale/202...</td>\n",
       "      <td>['Leather Seats', 'Sunroof/Moonroof', 'Navigat...</td>\n",
       "      <td>Lexus</td>\n",
       "      <td>4 seats</td>\n",
       "      <td>62251.0</td>\n",
       "      <td>RC 350</td>\n",
       "      <td>311 hp @ 6,600 RPM</td>\n",
       "      <td>32000.0</td>\n",
       "      <td>1861</td>\n",
       "      <td>2.800000</td>\n",
       "      <td>62178.0</td>\n",
       "      <td>Eastchester Chrysler Jeep Dodge Ram</td>\n",
       "      <td>280 lb-ft @ 4,800 RPM</td>\n",
       "      <td>A</td>\n",
       "      <td>6-Speed Automatic</td>\n",
       "      <td>t76289</td>\n",
       "      <td>AWD</td>\n",
       "      <td>AWD</td>\n",
       "      <td>All-Wheel Drive</td>\n",
       "      <td>107.5 in</td>\n",
       "      <td>81.5 in</td>\n",
       "      <td>2018</td>\n",
       "    </tr>\n",
       "    <tr>\n",
       "      <th>2</th>\n",
       "      <td>1GNERFKW0JJ104068</td>\n",
       "      <td>38.4 in</td>\n",
       "      <td>SUV / Crossover</td>\n",
       "      <td>Bay Shore</td>\n",
       "      <td>18.0</td>\n",
       "      <td>27</td>\n",
       "      <td>11706</td>\n",
       "      <td>Here at Atlantic Chevrolet-Cadillac, 90% of ou...</td>\n",
       "      <td>V6</td>\n",
       "      <td>3600.0</td>\n",
       "      <td>V6</td>\n",
       "      <td>Silver Ice Metallic</td>\n",
       "      <td>True</td>\n",
       "      <td>Chevrolet</td>\n",
       "      <td>41 in</td>\n",
       "      <td>19.4 gal</td>\n",
       "      <td>Gasoline</td>\n",
       "      <td>70.7 in</td>\n",
       "      <td>27.0</td>\n",
       "      <td>310.0</td>\n",
       "      <td>Dark Atmosphere/Medium Ash Gray</td>\n",
       "      <td>False</td>\n",
       "      <td>40.7333</td>\n",
       "      <td>204.3 in</td>\n",
       "      <td>2020-08-13</td>\n",
       "      <td>SILVER</td>\n",
       "      <td>279129180</td>\n",
       "      <td>-73.2587</td>\n",
       "      <td>https://static.cargurus.com/images/forsale/202...</td>\n",
       "      <td>['Power Package', 'Preferred Package', 'Third ...</td>\n",
       "      <td>Chevrolet</td>\n",
       "      <td>8 seats</td>\n",
       "      <td>36410.0</td>\n",
       "      <td>Traverse</td>\n",
       "      <td>310 hp @ 6,800 RPM</td>\n",
       "      <td>23723.0</td>\n",
       "      <td>3500</td>\n",
       "      <td>3.447761</td>\n",
       "      <td>314501.0</td>\n",
       "      <td>Atlantic Chevrolet Cadillac</td>\n",
       "      <td>266 lb-ft @ 2,800 RPM</td>\n",
       "      <td>A</td>\n",
       "      <td>9-Speed Automatic</td>\n",
       "      <td>t73662</td>\n",
       "      <td>LT Cloth FWD</td>\n",
       "      <td>FWD</td>\n",
       "      <td>Front-Wheel Drive</td>\n",
       "      <td>120.9 in</td>\n",
       "      <td>78.6 in</td>\n",
       "      <td>2018</td>\n",
       "    </tr>\n",
       "    <tr>\n",
       "      <th>3</th>\n",
       "      <td>1GNKVGKD7HJ340326</td>\n",
       "      <td>36.8 in</td>\n",
       "      <td>SUV / Crossover</td>\n",
       "      <td>Bay Shore</td>\n",
       "      <td>15.0</td>\n",
       "      <td>27</td>\n",
       "      <td>11706</td>\n",
       "      <td>Here at Atlantic Chevrolet-Cadillac, 90% of ou...</td>\n",
       "      <td>V6</td>\n",
       "      <td>3600.0</td>\n",
       "      <td>V6</td>\n",
       "      <td>Silver Ice Metallic</td>\n",
       "      <td>True</td>\n",
       "      <td>Chevrolet</td>\n",
       "      <td>41.3 in</td>\n",
       "      <td>22 gal</td>\n",
       "      <td>Gasoline</td>\n",
       "      <td>69.9 in</td>\n",
       "      <td>22.0</td>\n",
       "      <td>281.0</td>\n",
       "      <td>Dark Titanium/Light Titanium</td>\n",
       "      <td>False</td>\n",
       "      <td>40.7333</td>\n",
       "      <td>203.7 in</td>\n",
       "      <td>2020-08-13</td>\n",
       "      <td>SILVER</td>\n",
       "      <td>279129181</td>\n",
       "      <td>-73.2587</td>\n",
       "      <td>https://static.cargurus.com/images/forsale/202...</td>\n",
       "      <td>['Sunroof/Moonroof', 'Power Package', 'Navigat...</td>\n",
       "      <td>Chevrolet</td>\n",
       "      <td>8 seats</td>\n",
       "      <td>36055.0</td>\n",
       "      <td>Traverse</td>\n",
       "      <td>281 hp @ 6,300 RPM</td>\n",
       "      <td>22422.0</td>\n",
       "      <td>2416</td>\n",
       "      <td>3.447761</td>\n",
       "      <td>314501.0</td>\n",
       "      <td>Atlantic Chevrolet Cadillac</td>\n",
       "      <td>266 lb-ft @ 3,400 RPM</td>\n",
       "      <td>A</td>\n",
       "      <td>6-Speed Automatic</td>\n",
       "      <td>t67372</td>\n",
       "      <td>1LT AWD</td>\n",
       "      <td>AWD</td>\n",
       "      <td>All-Wheel Drive</td>\n",
       "      <td>118.9 in</td>\n",
       "      <td>78.5 in</td>\n",
       "      <td>2017</td>\n",
       "    </tr>\n",
       "    <tr>\n",
       "      <th>4</th>\n",
       "      <td>1C4RJFAG7JC203082</td>\n",
       "      <td>38.6 in</td>\n",
       "      <td>SUV / Crossover</td>\n",
       "      <td>Bay Shore</td>\n",
       "      <td>18.0</td>\n",
       "      <td>24</td>\n",
       "      <td>11706</td>\n",
       "      <td>Here at Atlantic Chevrolet-Cadillac, 90% of ou...</td>\n",
       "      <td>V6</td>\n",
       "      <td>3600.0</td>\n",
       "      <td>V6</td>\n",
       "      <td>Diamond Black Crystal Pearlcoat</td>\n",
       "      <td>True</td>\n",
       "      <td>Chevrolet</td>\n",
       "      <td>40.3 in</td>\n",
       "      <td>24.6 gal</td>\n",
       "      <td>Gasoline</td>\n",
       "      <td>69.3 in</td>\n",
       "      <td>25.0</td>\n",
       "      <td>295.0</td>\n",
       "      <td>Black</td>\n",
       "      <td>False</td>\n",
       "      <td>40.7333</td>\n",
       "      <td>189.8 in</td>\n",
       "      <td>2020-08-16</td>\n",
       "      <td>BLACK</td>\n",
       "      <td>279531621</td>\n",
       "      <td>-73.2587</td>\n",
       "      <td>https://static.cargurus.com/images/forsale/202...</td>\n",
       "      <td>['Leather Seats', 'Sunroof/Moonroof', 'Power P...</td>\n",
       "      <td>Jeep</td>\n",
       "      <td>5 seats</td>\n",
       "      <td>25745.0</td>\n",
       "      <td>Grand Cherokee</td>\n",
       "      <td>295 hp @ 6,400 RPM</td>\n",
       "      <td>29424.0</td>\n",
       "      <td>2254</td>\n",
       "      <td>3.447761</td>\n",
       "      <td>314501.0</td>\n",
       "      <td>Atlantic Chevrolet Cadillac</td>\n",
       "      <td>260 lb-ft @ 4,800 RPM</td>\n",
       "      <td>A</td>\n",
       "      <td>8-Speed Automatic</td>\n",
       "      <td>t75215</td>\n",
       "      <td>Altitude 4WD</td>\n",
       "      <td>4WD</td>\n",
       "      <td>Four-Wheel Drive</td>\n",
       "      <td>114.8 in</td>\n",
       "      <td>84.8 in</td>\n",
       "      <td>2018</td>\n",
       "    </tr>\n",
       "  </tbody>\n",
       "</table>\n",
       "</div>"
      ],
      "text/plain": [
       "                 vin back_legroom        body_type       city  \\\n",
       "0  1G1ZD5ST5JF222895      38.1 in            Sedan  Bay Shore   \n",
       "1  JTHSZ5BC5J5008777      27.3 in            Coupe      Bronx   \n",
       "2  1GNERFKW0JJ104068      38.4 in  SUV / Crossover  Bay Shore   \n",
       "3  1GNKVGKD7HJ340326      36.8 in  SUV / Crossover  Bay Shore   \n",
       "4  1C4RJFAG7JC203082      38.6 in  SUV / Crossover  Bay Shore   \n",
       "\n",
       "   city_fuel_economy  daysonmarket dealer_zip  \\\n",
       "0               27.0            55      11706   \n",
       "1               18.0            36      10466   \n",
       "2               18.0            27      11706   \n",
       "3               15.0            27      11706   \n",
       "4               18.0            24      11706   \n",
       "\n",
       "                                         description engine_cylinders  \\\n",
       "0  Here at Atlantic Chevrolet-Cadillac, 90% of ou...               I4   \n",
       "1  CERTIFIED CLEAN CARFAX!!! One Owner Vehicle - ...               V6   \n",
       "2  Here at Atlantic Chevrolet-Cadillac, 90% of ou...               V6   \n",
       "3  Here at Atlantic Chevrolet-Cadillac, 90% of ou...               V6   \n",
       "4  Here at Atlantic Chevrolet-Cadillac, 90% of ou...               V6   \n",
       "\n",
       "   engine_displacement engine_type                   exterior_color  \\\n",
       "0               1500.0          I4              Silver Ice Metallic   \n",
       "1               3500.0          V6                            Black   \n",
       "2               3600.0          V6              Silver Ice Metallic   \n",
       "3               3600.0          V6              Silver Ice Metallic   \n",
       "4               3600.0          V6  Diamond Black Crystal Pearlcoat   \n",
       "\n",
       "   franchise_dealer franchise_make front_legroom fuel_tank_volume fuel_type  \\\n",
       "0              True      Chevrolet         42 in         15.8 gal  Gasoline   \n",
       "1              True           Jeep       45.4 in         17.4 gal  Gasoline   \n",
       "2              True      Chevrolet         41 in         19.4 gal  Gasoline   \n",
       "3              True      Chevrolet       41.3 in           22 gal  Gasoline   \n",
       "4              True      Chevrolet       40.3 in         24.6 gal  Gasoline   \n",
       "\n",
       "    height  highway_fuel_economy  horsepower                   interior_color  \\\n",
       "0  57.6 in                  36.0       160.0                        Jet Black   \n",
       "1  55.1 in                  24.0       311.0                            Black   \n",
       "2  70.7 in                  27.0       310.0  Dark Atmosphere/Medium Ash Gray   \n",
       "3  69.9 in                  22.0       281.0     Dark Titanium/Light Titanium   \n",
       "4  69.3 in                  25.0       295.0                            Black   \n",
       "\n",
       "   is_new  latitude    length listed_date listing_color  listing_id  \\\n",
       "0   False   40.7333  193.8 in  2020-07-16        SILVER   276675304   \n",
       "1   False   40.8847  184.8 in  2020-08-04         BLACK   278352194   \n",
       "2   False   40.7333  204.3 in  2020-08-13        SILVER   279129180   \n",
       "3   False   40.7333  203.7 in  2020-08-13        SILVER   279129181   \n",
       "4   False   40.7333  189.8 in  2020-08-16         BLACK   279531621   \n",
       "\n",
       "   longitude                                   main_picture_url  \\\n",
       "0   -73.2587  https://static.cargurus.com/images/forsale/202...   \n",
       "1   -73.8317  https://static.cargurus.com/images/forsale/202...   \n",
       "2   -73.2587  https://static.cargurus.com/images/forsale/202...   \n",
       "3   -73.2587  https://static.cargurus.com/images/forsale/202...   \n",
       "4   -73.2587  https://static.cargurus.com/images/forsale/202...   \n",
       "\n",
       "                                       major_options  make_name  \\\n",
       "0  ['Driver Confidence Package', 'Power Package',...  Chevrolet   \n",
       "1  ['Leather Seats', 'Sunroof/Moonroof', 'Navigat...      Lexus   \n",
       "2  ['Power Package', 'Preferred Package', 'Third ...  Chevrolet   \n",
       "3  ['Sunroof/Moonroof', 'Power Package', 'Navigat...  Chevrolet   \n",
       "4  ['Leather Seats', 'Sunroof/Moonroof', 'Power P...       Jeep   \n",
       "\n",
       "  maximum_seating  mileage      model_name               power    price  \\\n",
       "0         5 seats  42394.0          Malibu  160 hp @ 5,700 RPM  14639.0   \n",
       "1         4 seats  62251.0          RC 350  311 hp @ 6,600 RPM  32000.0   \n",
       "2         8 seats  36410.0        Traverse  310 hp @ 6,800 RPM  23723.0   \n",
       "3         8 seats  36055.0        Traverse  281 hp @ 6,300 RPM  22422.0   \n",
       "4         5 seats  25745.0  Grand Cherokee  295 hp @ 6,400 RPM  29424.0   \n",
       "\n",
       "   savings_amount  seller_rating     sp_id  \\\n",
       "0            1749       3.447761  314501.0   \n",
       "1            1861       2.800000   62178.0   \n",
       "2            3500       3.447761  314501.0   \n",
       "3            2416       3.447761  314501.0   \n",
       "4            2254       3.447761  314501.0   \n",
       "\n",
       "                               sp_name                 torque transmission  \\\n",
       "0          Atlantic Chevrolet Cadillac  184 lb-ft @ 2,500 RPM            A   \n",
       "1  Eastchester Chrysler Jeep Dodge Ram  280 lb-ft @ 4,800 RPM            A   \n",
       "2          Atlantic Chevrolet Cadillac  266 lb-ft @ 2,800 RPM            A   \n",
       "3          Atlantic Chevrolet Cadillac  266 lb-ft @ 3,400 RPM            A   \n",
       "4          Atlantic Chevrolet Cadillac  260 lb-ft @ 4,800 RPM            A   \n",
       "\n",
       "  transmission_display  trimId     trim_name wheel_system  \\\n",
       "0    6-Speed Automatic  t74365        LT FWD          FWD   \n",
       "1    6-Speed Automatic  t76289           AWD          AWD   \n",
       "2    9-Speed Automatic  t73662  LT Cloth FWD          FWD   \n",
       "3    6-Speed Automatic  t67372       1LT AWD          AWD   \n",
       "4    8-Speed Automatic  t75215  Altitude 4WD          4WD   \n",
       "\n",
       "  wheel_system_display wheelbase    width  year  \n",
       "0    Front-Wheel Drive  111.4 in    73 in  2018  \n",
       "1      All-Wheel Drive  107.5 in  81.5 in  2018  \n",
       "2    Front-Wheel Drive  120.9 in  78.6 in  2018  \n",
       "3      All-Wheel Drive  118.9 in  78.5 in  2017  \n",
       "4     Four-Wheel Drive  114.8 in  84.8 in  2018  "
      ]
     },
     "execution_count": 3,
     "metadata": {},
     "output_type": "execute_result"
    }
   ],
   "source": [
    "df = data.copy()\n",
    "df.head()"
   ]
  },
  {
   "cell_type": "code",
   "execution_count": 4,
   "id": "b6877014-7600-4743-a486-3f5dfa4d5ca3",
   "metadata": {},
   "outputs": [
    {
     "name": "stdout",
     "output_type": "stream",
     "text": [
      "['Driver Confidence Package', 'Power Package', 'Preferred Package', 'Technology Package', 'Premium Wheels', 'Blind Spot Monitoring', 'Parking Sensors', 'Android Auto', 'CarPlay', 'LT Package', 'Bluetooth', 'Backup Camera', 'Remote Start', 'Convenience Package']\n",
      "__________________________________________________________________________________________________________\n",
      "['Leather Seats', 'Sunroof/Moonroof', 'Navigation System', 'Alloy Wheels', 'Bluetooth', 'Backup Camera', 'Heated Seats']\n",
      "__________________________________________________________________________________________________________\n",
      "['Power Package', 'Preferred Package', 'Third Row Seating', 'Premium Wheels', 'Blind Spot Monitoring', 'Heat Package', 'Parking Sensors', 'Android Auto', 'CarPlay', 'Multi Zone Climate Control', 'LT Package', 'Bluetooth', 'Backup Camera', 'Remote Start', 'Convenience Package']\n",
      "__________________________________________________________________________________________________________\n",
      "['Sunroof/Moonroof', 'Power Package', 'Navigation System', 'Preferred Package', 'Technology Package', 'Third Row Seating', 'Premium Wheels', 'Heat Package', 'Parking Sensors', 'Heated Seats', 'CarPlay', 'Acoustical Package', 'LT Package', 'Audio Package', 'Bluetooth', 'Backup Camera', 'Remote Start']\n",
      "__________________________________________________________________________________________________________\n",
      "['Leather Seats', 'Sunroof/Moonroof', 'Power Package', 'Navigation System', 'Preferred Package', 'Premium Wheels', 'Blind Spot Monitoring', 'Heat Package', 'Parking Sensors', 'Heated Seats', 'Tow Package', 'Android Auto', 'Cold Weather Package', 'Quick Order Package', 'CarPlay', 'Multi Zone Climate Control', 'Bluetooth', 'Backup Camera', 'Remote Start']\n",
      "__________________________________________________________________________________________________________\n",
      "['Leather Seats', 'Sunroof/Moonroof', 'Navigation System', 'Alloy Wheels', 'Bluetooth', 'Backup Camera', 'Remote Start', 'Heated Seats', 'Quick Order Package']\n",
      "__________________________________________________________________________________________________________\n",
      "['Leather Seats', 'Sunroof/Moonroof', 'Alloy Wheels', 'Bluetooth', 'Backup Camera', 'Remote Start', 'Blind Spot Monitoring', 'Heated Seats']\n",
      "__________________________________________________________________________________________________________\n",
      "['Leather Seats', 'Sunroof/Moonroof', 'Navigation System', 'Alloy Wheels', 'Bluetooth', 'Backup Camera', 'Remote Start', 'Parking Sensors', 'Heated Seats', 'Quick Order Package']\n",
      "__________________________________________________________________________________________________________\n",
      "['Driver Confidence Package', 'Power Package', 'Preferred Package', 'Third Row Seating', 'Premium Wheels', 'Blind Spot Monitoring', 'Heat Package', 'Parking Sensors', 'Heated Seats', 'Android Auto', 'CarPlay', 'Multi Zone Climate Control', 'LT Package', 'Bluetooth', 'Backup Camera', 'Remote Start', 'Convenience Package']\n",
      "__________________________________________________________________________________________________________\n"
     ]
    }
   ],
   "source": [
    "n = 1 \n",
    "for i in df.major_options:\n",
    "    print(i)\n",
    "    print('__________________________________________________________________________________________________________')\n",
    "    n+=1\n",
    "    if n == 10:\n",
    "        break"
   ]
  },
  {
   "cell_type": "code",
   "execution_count": null,
   "id": "eab97bf4-7bcd-43de-ac38-3981fc7885c6",
   "metadata": {},
   "outputs": [],
   "source": []
  },
  {
   "cell_type": "code",
   "execution_count": 5,
   "id": "52aa1121-f003-49fd-b14a-4005ccd6bc34",
   "metadata": {},
   "outputs": [],
   "source": [
    "for i in ['back_legroom' , 'front_legroom', 'height' , 'length' , 'wheelbase', 'width']:\n",
    "    df[i] = df[i].str[:-3].astype('float')"
   ]
  },
  {
   "cell_type": "code",
   "execution_count": 6,
   "id": "19a159d8-fae2-41d5-bd80-dde5387566ba",
   "metadata": {},
   "outputs": [],
   "source": [
    "lb_ft = []\n",
    "for i in df.torque.str.replace(\",\",\"\").str[:-4].str.split(\" lb-ft @ \"):\n",
    "    lb_ft.append(int(i[0]))\n",
    "df['Torque_lb_ft'] = lb_ft\n",
    "#df.head()"
   ]
  },
  {
   "cell_type": "code",
   "execution_count": 7,
   "id": "f3e68b5d-9ebe-4a8c-b5e7-069bc0b02477",
   "metadata": {},
   "outputs": [],
   "source": [
    "# dropping insignificant features:\n",
    "df.drop(columns=['vin' , 'city' , 'dealer_zip' ,  'description' , 'engine_type' , 'franchise_dealer' , 'exterior_color' , 'interior_color' , 'latitude' , 'longitude' , 'main_picture_url' , 'mileage',\n",
    "                'make_name' , 'power' , 'savings_amount' , 'seller_rating' , 'sp_id' , 'sp_name' , 'trimId' , 'trim_name',  'wheel_system_display' , 'torque' , 'listing_id' ] , inplace=True)"
   ]
  },
  {
   "cell_type": "raw",
   "id": "139d75b5-de72-442b-9bd3-20f27636d923",
   "metadata": {},
   "source": [
    "from pandas_profiling import ProfileReport\n",
    "design_report = ProfileReport(df)\n",
    "design_report.to_file(output_file='Pandas_Profiling_Report.html')"
   ]
  },
  {
   "cell_type": "code",
   "execution_count": 8,
   "id": "3458463f-5dc7-40b9-ab3b-722d3de53cc3",
   "metadata": {},
   "outputs": [],
   "source": [
    "df.fuel_tank_volume = df.fuel_tank_volume.str[:-4].astype('float')"
   ]
  },
  {
   "cell_type": "code",
   "execution_count": 9,
   "id": "57728700-8188-4164-88b4-5c69ba934835",
   "metadata": {},
   "outputs": [],
   "source": [
    "df.maximum_seating = df.maximum_seating.str[:-5].astype('int')"
   ]
  },
  {
   "cell_type": "code",
   "execution_count": 10,
   "id": "d178daa3-ba62-4155-9c6c-9895df420f12",
   "metadata": {},
   "outputs": [],
   "source": [
    "df['Age'] = pd.to_datetime(df.listed_date).dt.year - df.year"
   ]
  },
  {
   "cell_type": "code",
   "execution_count": 11,
   "id": "58561344-40ed-4796-8397-fce6f2d4bd82",
   "metadata": {},
   "outputs": [],
   "source": [
    "df.drop(columns=['listed_date','year'],inplace=True)"
   ]
  },
  {
   "cell_type": "code",
   "execution_count": 12,
   "id": "9024c49d-345b-4c4c-aa36-278b4982b42f",
   "metadata": {},
   "outputs": [],
   "source": [
    "df.replace([True,False],[0,1],inplace=True)"
   ]
  },
  {
   "cell_type": "code",
   "execution_count": 13,
   "id": "a325fdc5-85fd-41df-9ca8-af184677298d",
   "metadata": {},
   "outputs": [],
   "source": [
    "cyl = []\n",
    "for i in df.engine_cylinders:\n",
    "    f = ''\n",
    "    for j in i:\n",
    "        if j.isdigit():\n",
    "            f += j\n",
    "    cyl.append(int(f))\n",
    "df['No_of_Cylinders'] = cyl\n",
    "df.drop(columns='engine_cylinders',inplace=True)"
   ]
  },
  {
   "cell_type": "code",
   "execution_count": 14,
   "id": "c236af29-6ded-45a2-aeeb-e94773a7db82",
   "metadata": {},
   "outputs": [],
   "source": [
    "gb = []\n",
    "for i in df.transmission_display:\n",
    "    f = ''\n",
    "    if i[0].isdigit():\n",
    "        for j in i:\n",
    "            if j.isdigit():\n",
    "                f += j\n",
    "    elif i == 'Manual':\n",
    "        f = 0\n",
    "    elif i == 'Continuously Variable Transmission':\n",
    "        f = 1\n",
    "    elif i == 'Automatic':\n",
    "        f = 2\n",
    "    gb.append(int(f))\n",
    "    \n",
    "df.transmission_display = gb"
   ]
  },
  {
   "cell_type": "code",
   "execution_count": 15,
   "id": "393d3cb0-daca-4609-bce7-944cdb52e5b4",
   "metadata": {},
   "outputs": [],
   "source": [
    "df.transmission.replace({'A':3, 'CVT':2 , 'M': 1 , 'Dual Clutch':0}, inplace = True)"
   ]
  },
  {
   "cell_type": "code",
   "execution_count": 16,
   "id": "1f7b930e-2252-48d2-881a-b1e7f7842697",
   "metadata": {},
   "outputs": [],
   "source": [
    "df.wheel_system.replace({'4X2':0,'FWD':0,'RWD':0,'4WD':1, 'AWD':2},inplace=True)"
   ]
  },
  {
   "cell_type": "code",
   "execution_count": 17,
   "id": "61ddac23-43fb-4c4f-bb55-d544e8f6ae98",
   "metadata": {},
   "outputs": [],
   "source": [
    "df.rename(columns = {'back_legroom':'back_legroom_(inches)' ,'front_legroom':'front_legroom_(inches)' , 'fuel_tank_volume':'fuel_tank_volume_(gallons)' , 'height':'height_(inches)' , \n",
    "                     'length':'length_(inches)' ,'wheel_base':'wheelbase_(inches)' , 'width':'width_(inches)' ,'year':'vehicle_year' , 'Age':'Vehicle_Age'} , inplace=True)"
   ]
  },
  {
   "cell_type": "markdown",
   "id": "da336860-dfa1-46ea-800c-4b91341b3b66",
   "metadata": {},
   "source": [
    "### Transformation"
   ]
  },
  {
   "cell_type": "raw",
   "id": "434a3fb6-bced-4d76-8c2b-42b6f5010c6e",
   "metadata": {},
   "source": [
    "for i in list(df.select_dtypes(exclude='object').columns):\n",
    "    print(f\"Skewness of {i} is {df[i].skew()}\")\n",
    "    \n",
    "# Output:\n",
    "# Skewness of back_legroom_(inches) is -0.523777245161518\n",
    "# Skewness of city_fuel_economy is 0.492026542391241\n",
    "# Skewness of daysonmarket is 3.2616866021314292\n",
    "# Skewness of engine_displacement is 0.9956740583266586\n",
    "# Skewness of front_legroom_(inches) is 0.6397835677101225\n",
    "# Skewness of fuel_tank_volume_(gallons) is 0.7081340912909786\n",
    "# Skewness of height_(inches) is 0.1003908201099454\n",
    "# Skewness of highway_fuel_economy is 0.35977684492031897\n",
    "# Skewness of horsepower is 0.6019317257911255\n",
    "# Skewness of is_new is -0.10571028350300776\n",
    "# Skewness of length_(inches) is 0.8213674064657269\n",
    "# Skewness of maximum_seating is 1.597685428370619\n",
    "# Skewness of mileage is 2.2717637657985947\n",
    "# Skewness of wheelbase is 1.4527120516763605\n",
    "# Skewness of width_(inches) is 0.8458542836989258\n",
    "# Skewness of vehicle_year is -2.208143034733178\n",
    "# Skewness of Torque_lb_ft is 0.7184414032674398\n",
    "# Skewness of Vehicle_Age is 2.108754475874765"
   ]
  },
  {
   "cell_type": "raw",
   "id": "3d6dd76d-d33f-4cb1-bb2a-e0a2cb3b6c55",
   "metadata": {},
   "source": [
    "plt.figure(figsize=(25,20))\n",
    "n = 1\n",
    "for i in list(df1.select_dtypes(exclude='object').drop(columns='price').columns):\n",
    "    plt.subplot(5,4,n)\n",
    "    n += 1\n",
    "    if np.abs(df1[i].skew()) > 2:\n",
    "        sns.histplot(df1[i] , kde='True', color='#DE3163')\n",
    "        plt.title(f\"{i}: Skewness= {round(df1[i].skew(),2)}\")\n",
    "    else:\n",
    "        sns.histplot(df1[i] , kde='True', color='#AFE1AF')\n",
    "        plt.title(f\"{i}: Skewness= {round(df1[i].skew(),2)}\")\n",
    "    plt.tight_layout()\n",
    "plt.show()"
   ]
  },
  {
   "cell_type": "markdown",
   "id": "7be883c2-9bcd-489a-acb2-7c6b28d066d6",
   "metadata": {},
   "source": [
    "_Skewness is in the acceptable range._"
   ]
  },
  {
   "cell_type": "raw",
   "id": "7ed4ae52-a3db-41eb-9b01-1ba285aecd5b",
   "metadata": {},
   "source": [
    "from sklearn.preprocessing import QuantileTransformer\n",
    "qtt = QuantileTransformer(output_distribution='normal')"
   ]
  },
  {
   "cell_type": "raw",
   "id": "8c6f82cb-ab34-4687-b251-02c3de3ce287",
   "metadata": {},
   "source": [
    "df[list(df.select_dtypes(exclude='object').drop(columns='price').columns)] = qtt.fit_transform(df.select_dtypes(exclude='object').drop(columns='price'), df.price)"
   ]
  },
  {
   "cell_type": "markdown",
   "id": "3af53fc6-0d8a-4d9f-b162-153401166446",
   "metadata": {},
   "source": [
    "### Adding Columns for Major Options. "
   ]
  },
  {
   "cell_type": "raw",
   "id": "346b4ab2-1511-4d74-bd94-83f9c1ab050d",
   "metadata": {},
   "source": [
    "# All options\n",
    "op = []\n",
    "n = 0\n",
    "for i in df.major_options:\n",
    "    # print(i)\n",
    "    n+=1\n",
    "    for j in i.replace('[','').replace(']','').replace(\"'\",'').split(', '):\n",
    "        # print(j)\n",
    "        if j not in op:\n",
    "            op.append(j)\n",
    "    # break"
   ]
  },
  {
   "cell_type": "raw",
   "id": "20f62315-7294-45f5-aeb2-76afe6bf536d",
   "metadata": {},
   "source": [
    "print(op)"
   ]
  },
  {
   "cell_type": "raw",
   "id": "6e433851-8e43-4913-b344-71d318040628",
   "metadata": {},
   "source": [
    "#making Lists of the major options\n",
    "for i in op:\n",
    "    # print(i)\n",
    "    if i.replace(' ','_')[0].isdigit() == True:\n",
    "        print('_' + i.replace(' ','_').replace('-','_'), '= []')\n",
    "    else:\n",
    "        print(i.replace(' ','_'), '= []')"
   ]
  },
  {
   "cell_type": "raw",
   "id": "31e7cdd3-f9fe-47cb-ad66-a6689e2c4b82",
   "metadata": {},
   "source": [
    "#Making Dictionary of major options\n",
    "for i in op:\n",
    "    print(f\"'{i}' : \", end = \"\")\n",
    "    if i.replace(' ','_')[0].isdigit() == True:\n",
    "        print('_' + i.replace(' ','_').replace('-','_'), \",\")\n",
    "    else:\n",
    "        print(i.replace(' ','_'), \",\")"
   ]
  },
  {
   "cell_type": "raw",
   "id": "164960e1-1646-443d-9e8d-c9983ff2daa2",
   "metadata": {},
   "source": [
    "Driver_Confidence_Package = []\n",
    "Power_Package = []\n",
    "Preferred_Package = []\n",
    "Technology_Package = []\n",
    "Premium_Wheels = []\n",
    "Blind_Spot_Monitoring = []\n",
    "Parking_Sensors = []\n",
    "Android_Auto = []\n",
    "CarPlay = []\n",
    "LT_Package = []\n",
    "Bluetooth = []\n",
    "Backup_Camera = []\n",
    "Remote_Start = []\n",
    "Convenience_Package = []\n",
    "Leather_Seats = []\n",
    "Sunroof_Moonroof = []\n",
    "Navigation_System = []\n",
    "Alloy_Wheels = []\n",
    "Heated_Seats = []\n",
    "Third_Row_Seating = []\n",
    "Heat_Package = []\n",
    "Multi_Zone_Climate_Control = []\n",
    "Acoustical_Package = []\n",
    "Audio_Package = []\n",
    "Tow_Package = []\n",
    "Cold_Weather_Package = []\n",
    "Quick_Order_Package = []\n",
    "Adaptive_Cruise_Control = []\n",
    "SE_Package = []\n",
    "Comfort_Package = []\n",
    "Trailer_Package = []\n",
    "Cargo_Package = []\n",
    "Premium_Package = []\n",
    "Off_Road_Package = []\n",
    "Suspension_Package = []\n",
    "Steel_Wheels = []\n",
    "Sport_Package = []\n",
    "Adaptive_Suspension = []\n",
    "Premium_Audio_Package = []\n",
    "Luxury_Package = []\n",
    "Memory_Package = []\n",
    "Trim_Package = []\n",
    "Power_Mirror_Package = []\n",
    "DVD_Entertainment_System = []\n",
    "Premium_Sound_Package = []\n",
    "Rear_Climate_Package = []\n",
    "Bose_High_End_Sound_Package = []\n",
    "Sound_Package = []\n",
    "Security_Package = []\n",
    "Appearance_Package = []\n",
    "Z_71_Package = []\n",
    "Z71_Package = []\n",
    "Performance_Package = []\n",
    "_2lt_Package = []\n",
    "LE_Package = []\n",
    "Safety_Package = []\n",
    "Wood_Trim_Package = []\n",
    "RS_Package = []\n",
    "LS_Package = []\n",
    "Value_Package = []\n",
    "Special_Edition_Package = []\n",
    "Chrome_Wheels = []\n",
    "Autoride_Suspension_Package = []\n",
    "Skid_Plate_Package = []\n",
    "Ultimate_Package = []\n",
    "Premium_Smooth_Ride_Suspension_Package = []\n",
    "Customer_Preferred_Package = []\n",
    "Limited_Package = []\n",
    "Preferred_Equipment_Package = []\n",
    "Popular_Equipment_Package = []\n",
    "Smoker_Package = []\n",
    "Driver_Assistance_Package = []\n",
    "Premium_Plus_Package = []\n",
    "SL_Package = []\n",
    "Light_Package = []\n",
    "Premium_1_Package = []\n",
    "Premium_2_Package = []\n",
    "Storage_Package = []\n",
    "_101A_Mid_Equipment_Group = []\n",
    "Elite_Package = []\n",
    "Utility_Package = []\n",
    "Lariat_Package = []\n",
    "_502A_Luxury_Equipment_Group = []\n",
    "_301A_Mid_Equipment_Group = []\n",
    "Preferred_Accessory_Package = []\n",
    "_302A_Luxury_Equipment_Group = []\n",
    "TRD_Package = []\n",
    "SLT_Package = []\n",
    "SR5_Package = []\n",
    "SLE_Package = []\n",
    "P2_Package = []\n",
    "P01_Premium_Package = []\n",
    "Extra_Value_Package = []\n",
    "M_Sport_Package = []\n",
    "XLT_Package = []\n",
    "Executive_Package = []\n",
    "Upgrade_Package = []\n",
    "Ambient_Light_Package = []\n",
    "Multimedia_Package = []\n",
    "King_Ranch_Package = []\n",
    "Convenience_Plus_Package = []\n",
    "_701A_Luxury_Equipment_Group = []\n",
    "_601A_Luxury_Equipment_Group = []\n",
    "Graphics_Package = []\n",
    "F01_Package = []\n",
    "Ground_Effects_Package = []\n",
    "_501A_Mid_Equipment_Group = []\n",
    "S_Line_Sport_Package = []\n",
    "XLE_Package = []\n",
    "AMG_Sport_Package = []\n",
    "Ultra_Luxury_Package = []\n",
    "License_Plate_Front_Mount_Package = []\n",
    "Sport_Chrono_Package = []\n",
    "Tour_Package = []\n",
    "All_Wheel_Steering = []\n",
    "P1_Package = []\n",
    "Handicap_Accessible = []\n",
    "_5th_Wheel = []\n",
    "Winter_Package = []\n",
    "S_Line_Package = []\n",
    "Wood_Upgrade_Package = []\n",
    "Performance_Handling_Package = []\n",
    "Standard_Suspension_Package = []\n",
    "SXT_Package = []\n",
    "Remote_Vehicle_Starter_Prep_Package = []\n",
    "Bi_Xenon_Headlamp_Package = []\n",
    "Solid_Smooth_Ride_Suspension_Package = []\n",
    "Appearance_and_Protection_Package = []\n",
    "Sport_Activity_Package = []\n",
    "Dual_Rear_Wheels = []\n",
    "Carbon_Ceramic_Brakes = []\n",
    "SR5_Grade_Package = []\n",
    "Heavy_Duty_Trailer_Package = []\n",
    "Quiet_Package = []\n",
    "Courtesy_Lights_Illum_Package = []\n",
    "Luxury_Ride_Suspension_Package = []\n",
    "Preferred_Premium_Accessory_Package = []\n",
    "Journey_Package = []\n",
    "Luxury_Sound_Insulation_Package = []\n",
    "Grand_Tour_Package = []\n",
    "\n",
    "dict1 = {'Driver Confidence Package' : Driver_Confidence_Package ,\n",
    "'Power Package' : Power_Package ,\n",
    "'Preferred Package' : Preferred_Package ,\n",
    "'Technology Package' : Technology_Package ,\n",
    "'Premium Wheels' : Premium_Wheels ,\n",
    "'Blind Spot Monitoring' : Blind_Spot_Monitoring ,\n",
    "'Parking Sensors' : Parking_Sensors ,\n",
    "'Android Auto' : Android_Auto ,\n",
    "'CarPlay' : CarPlay ,\n",
    "'LT Package' : LT_Package ,\n",
    "'Bluetooth' : Bluetooth ,\n",
    "'Backup Camera' : Backup_Camera ,\n",
    "'Remote Start' : Remote_Start ,\n",
    "'Convenience Package' : Convenience_Package ,\n",
    "'Leather Seats' : Leather_Seats ,\n",
    "'Sunroof/Moonroof' : Sunroof_Moonroof ,\n",
    "'Navigation System' : Navigation_System ,\n",
    "'Alloy Wheels' : Alloy_Wheels ,\n",
    "'Heated Seats' : Heated_Seats ,\n",
    "'Third Row Seating' : Third_Row_Seating ,\n",
    "'Heat Package' : Heat_Package ,\n",
    "'Multi Zone Climate Control' : Multi_Zone_Climate_Control ,\n",
    "'Acoustical Package' : Acoustical_Package ,\n",
    "'Audio Package' : Audio_Package ,\n",
    "'Tow Package' : Tow_Package ,\n",
    "'Cold Weather Package' : Cold_Weather_Package ,\n",
    "'Quick Order Package' : Quick_Order_Package ,\n",
    "'Adaptive Cruise Control' : Adaptive_Cruise_Control ,\n",
    "'SE Package' : SE_Package ,\n",
    "'Comfort Package' : Comfort_Package ,\n",
    "'Trailer Package' : Trailer_Package ,\n",
    "'Cargo Package' : Cargo_Package ,\n",
    "'Premium Package' : Premium_Package ,\n",
    "'Off Road Package' : Off_Road_Package ,\n",
    "'Suspension Package' : Suspension_Package ,\n",
    "'Steel Wheels' : Steel_Wheels ,\n",
    "'Sport Package' : Sport_Package ,\n",
    "'Adaptive Suspension' : Adaptive_Suspension ,\n",
    "'Premium Audio Package' : Premium_Audio_Package ,\n",
    "'Luxury Package' : Luxury_Package ,\n",
    "'Memory Package' : Memory_Package ,\n",
    "'Trim Package' : Trim_Package ,\n",
    "'Power Mirror Package' : Power_Mirror_Package ,\n",
    "'DVD Entertainment System' : DVD_Entertainment_System ,\n",
    "'Premium Sound Package' : Premium_Sound_Package ,\n",
    "'Rear Climate Package' : Rear_Climate_Package ,\n",
    "'Bose High End Sound Package' : Bose_High_End_Sound_Package ,\n",
    "'Sound Package' : Sound_Package ,\n",
    "'Security Package' : Security_Package ,\n",
    "'Appearance Package' : Appearance_Package ,\n",
    "'Z 71 Package' : Z_71_Package ,\n",
    "'Z71 Package' : Z71_Package ,\n",
    "'Performance Package' : Performance_Package ,\n",
    "'2lt Package' : _2lt_Package ,\n",
    "'LE Package' : LE_Package ,\n",
    "'Safety Package' : Safety_Package ,\n",
    "'Wood Trim Package' : Wood_Trim_Package ,\n",
    "'RS Package' : RS_Package ,\n",
    "'LS Package' : LS_Package ,\n",
    "'Value Package' : Value_Package ,\n",
    "'Special Edition Package' : Special_Edition_Package ,\n",
    "'Chrome Wheels' : Chrome_Wheels ,\n",
    "'Autoride Suspension Package' : Autoride_Suspension_Package ,\n",
    "'Skid Plate Package' : Skid_Plate_Package ,\n",
    "'Ultimate Package' : Ultimate_Package ,\n",
    "'Premium Smooth Ride Suspension Package' : Premium_Smooth_Ride_Suspension_Package ,\n",
    "'Customer Preferred Package' : Customer_Preferred_Package ,\n",
    "'Limited Package' : Limited_Package ,\n",
    "'Preferred Equipment Package' : Preferred_Equipment_Package ,\n",
    "'Popular Equipment Package' : Popular_Equipment_Package ,\n",
    "'Smoker Package' : Smoker_Package ,\n",
    "'Driver Assistance Package' : Driver_Assistance_Package ,\n",
    "'Premium Plus Package' : Premium_Plus_Package ,\n",
    "'SL Package' : SL_Package ,\n",
    "'Light Package' : Light_Package ,\n",
    "'Premium 1 Package' : Premium_1_Package ,\n",
    "'Premium 2 Package' : Premium_2_Package ,\n",
    "'Storage Package' : Storage_Package ,\n",
    "'101A Mid Equipment Group' : _101A_Mid_Equipment_Group ,\n",
    "'Elite Package' : Elite_Package ,\n",
    "'Utility Package' : Utility_Package ,\n",
    "'Lariat Package' : Lariat_Package ,\n",
    "'502A Luxury Equipment Group' : _502A_Luxury_Equipment_Group ,\n",
    "'301A Mid Equipment Group' : _301A_Mid_Equipment_Group ,\n",
    "'Preferred Accessory Package' : Preferred_Accessory_Package ,\n",
    "'302A Luxury Equipment Group' : _302A_Luxury_Equipment_Group ,\n",
    "'TRD Package' : TRD_Package ,\n",
    "'SLT Package' : SLT_Package ,\n",
    "'SR5 Package' : SR5_Package ,\n",
    "'SLE Package' : SLE_Package ,\n",
    "'P2 Package' : P2_Package ,\n",
    "'P01 Premium Package' : P01_Premium_Package ,\n",
    "'Extra Value Package' : Extra_Value_Package ,\n",
    "'M Sport Package' : M_Sport_Package ,\n",
    "'XLT Package' : XLT_Package ,\n",
    "'Executive Package' : Executive_Package ,\n",
    "'Upgrade Package' : Upgrade_Package ,\n",
    "'Ambient Light Package' : Ambient_Light_Package ,\n",
    "'Multimedia Package' : Multimedia_Package ,\n",
    "'King Ranch Package' : King_Ranch_Package ,\n",
    "'Convenience Plus Package' : Convenience_Plus_Package ,\n",
    "'701A Luxury Equipment Group' : _701A_Luxury_Equipment_Group ,\n",
    "'601A Luxury Equipment Group' : _601A_Luxury_Equipment_Group ,\n",
    "'Graphics Package' : Graphics_Package ,\n",
    "'F01 Package' : F01_Package ,\n",
    "'Ground Effects Package' : Ground_Effects_Package ,\n",
    "'501A Mid Equipment Group' : _501A_Mid_Equipment_Group ,\n",
    "'S Line Sport Package' : S_Line_Sport_Package ,\n",
    "'XLE Package' : XLE_Package ,\n",
    "'AMG Sport Package' : AMG_Sport_Package ,\n",
    "'Ultra Luxury Package' : Ultra_Luxury_Package ,\n",
    "'License Plate Front Mount Package' : License_Plate_Front_Mount_Package ,\n",
    "'Sport Chrono Package' : Sport_Chrono_Package ,\n",
    "'Tour Package' : Tour_Package ,\n",
    "'All_Wheel Steering' : All_Wheel_Steering ,\n",
    "'P1 Package' : P1_Package ,\n",
    "'Handicap Accessible' : Handicap_Accessible ,\n",
    "'5th Wheel' : _5th_Wheel ,\n",
    "'Winter Package' : Winter_Package ,\n",
    "'S Line Package' : S_Line_Package ,\n",
    "'Wood Upgrade Package' : Wood_Upgrade_Package ,\n",
    "'Performance Handling Package' : Performance_Handling_Package ,\n",
    "'Standard Suspension Package' : Standard_Suspension_Package ,\n",
    "'SXT Package' : SXT_Package ,\n",
    "'Remote Vehicle Starter Prep Package' : Remote_Vehicle_Starter_Prep_Package ,\n",
    "'Bi Xenon Headlamp Package' : Bi_Xenon_Headlamp_Package ,\n",
    "'Solid Smooth Ride Suspension Package' : Solid_Smooth_Ride_Suspension_Package ,\n",
    "'Appearance and Protection Package' : Appearance_and_Protection_Package ,\n",
    "'Sport Activity Package' : Sport_Activity_Package ,\n",
    "'Dual Rear Wheels' : Dual_Rear_Wheels ,\n",
    "'Carbon Ceramic Brakes' : Carbon_Ceramic_Brakes ,\n",
    "'SR5 Grade Package' : SR5_Grade_Package ,\n",
    "'Heavy Duty Trailer Package' : Heavy_Duty_Trailer_Package ,\n",
    "'Quiet Package' : Quiet_Package ,\n",
    "'Courtesy Lights Illum Package' : Courtesy_Lights_Illum_Package ,\n",
    "'Luxury Ride Suspension Package' : Luxury_Ride_Suspension_Package ,\n",
    "'Preferred Premium Accessory Package' : Preferred_Premium_Accessory_Package ,\n",
    "'Journey Package' : Journey_Package ,\n",
    "'Luxury Sound Insulation Package' : Luxury_Sound_Insulation_Package ,\n",
    "'Grand Tour Package' : Grand_Tour_Package}"
   ]
  },
  {
   "cell_type": "raw",
   "id": "21044922-13b6-4d47-975c-8c834ff98267",
   "metadata": {},
   "source": [
    "#Making of columns"
   ]
  },
  {
   "cell_type": "raw",
   "id": "b6dfb316-7598-48e9-8f29-02811aa96911",
   "metadata": {},
   "source": [
    "for i in df.major_options:\n",
    "    for x in dict1:\n",
    "        # print(x)\n",
    "        c = 0\n",
    "        for j in i.split(','):\n",
    "            # print(j)\n",
    "            #print(type(j))\n",
    "            if x in j:\n",
    "                c += 1\n",
    "        if c > 0:\n",
    "            dict1[x].append(1)\n",
    "        else:\n",
    "            dict1[x].append(0)\n",
    "    # break"
   ]
  },
  {
   "cell_type": "raw",
   "id": "31441200-519a-41ca-a7dc-5b707ad3ced3",
   "metadata": {},
   "source": [
    "for a in dict1:\n",
    "    print(a , len(dict1[a]))"
   ]
  },
  {
   "cell_type": "raw",
   "id": "6ddaa5f5-3c17-4cd5-8cac-bdf17b87dd65",
   "metadata": {},
   "source": [
    "df1 = df.copy()"
   ]
  },
  {
   "cell_type": "raw",
   "id": "ab074cac-1d0d-455b-9507-8c443a8ee0cc",
   "metadata": {},
   "source": [
    "for d in dict1:\n",
    "    df1[d] = dict1[d]"
   ]
  },
  {
   "cell_type": "raw",
   "id": "5727adbe-226c-43e1-b33e-064745466a0c",
   "metadata": {},
   "source": [
    "df1.head()"
   ]
  },
  {
   "cell_type": "code",
   "execution_count": 18,
   "id": "a2688857-4086-4137-a25b-96bda0403f27",
   "metadata": {},
   "outputs": [],
   "source": [
    "df.drop(columns='major_options', inplace=True)\n",
    "#df1.drop(columns='major_options', inplace=True)"
   ]
  },
  {
   "cell_type": "code",
   "execution_count": null,
   "id": "3f31dbca-23c5-4e8a-9fe4-dd979c3b4a10",
   "metadata": {},
   "outputs": [],
   "source": []
  },
  {
   "cell_type": "code",
   "execution_count": null,
   "id": "ad87eff4-8d1d-4471-8a6f-d363df9000c5",
   "metadata": {},
   "outputs": [],
   "source": []
  },
  {
   "cell_type": "code",
   "execution_count": null,
   "id": "4b562cf8-8278-408e-b255-04671e0bb9f5",
   "metadata": {},
   "outputs": [],
   "source": []
  },
  {
   "cell_type": "code",
   "execution_count": null,
   "id": "60ba7f7a-5022-45b5-b464-0752943d9be3",
   "metadata": {},
   "outputs": [],
   "source": []
  },
  {
   "cell_type": "code",
   "execution_count": null,
   "id": "33b21103-f543-4a30-b0ff-7642db78859a",
   "metadata": {},
   "outputs": [],
   "source": []
  },
  {
   "cell_type": "code",
   "execution_count": null,
   "id": "a7ce83d0-b99a-4171-9be8-a01b0630a54d",
   "metadata": {},
   "outputs": [],
   "source": []
  },
  {
   "cell_type": "code",
   "execution_count": null,
   "id": "c3ece3d7-919e-49bf-8c89-9ca334baf359",
   "metadata": {},
   "outputs": [],
   "source": []
  },
  {
   "cell_type": "markdown",
   "id": "1c85f474-2115-4d9b-86c1-08a95ab68051",
   "metadata": {
    "tags": []
   },
   "source": [
    "### Now starts the Encodings:"
   ]
  },
  {
   "cell_type": "raw",
   "id": "871da6e9-c0f7-432f-bd34-9cfcd950deb6",
   "metadata": {},
   "source": [
    "from sklearn.preprocessing import OrdinalEncoder\n",
    "from category_encoders import QuantileEncoder\n",
    "oe = OrdinalEncoder()\n",
    "qt = QuantileEncoder()"
   ]
  },
  {
   "cell_type": "raw",
   "id": "16731204-d780-4bd8-8f27-06cefb7aab99",
   "metadata": {},
   "source": [
    "df2 = qt.fit_transform(df1.drop(columns='price'), df1.price)"
   ]
  },
  {
   "cell_type": "raw",
   "id": "72ea2405-2a05-44fe-a6b3-bcc80576a850",
   "metadata": {},
   "source": [
    "df3 = qt.fit_transform(df.drop(columns ='price'), df.price)"
   ]
  },
  {
   "cell_type": "code",
   "execution_count": 19,
   "id": "b09f7e98-fac8-4450-8a80-c4584d785706",
   "metadata": {},
   "outputs": [
    {
     "data": {
      "text/plain": [
       "['body_type', 'franchise_make', 'fuel_type', 'listing_color', 'model_name']"
      ]
     },
     "execution_count": 19,
     "metadata": {},
     "output_type": "execute_result"
    }
   ],
   "source": [
    "catcols = list(df.select_dtypes(include='object').columns)\n",
    "catcols"
   ]
  },
  {
   "cell_type": "raw",
   "id": "e2be5330",
   "metadata": {},
   "source": [
    "!pip install category-encoders==2.4.1"
   ]
  },
  {
   "cell_type": "code",
   "execution_count": 23,
   "id": "d2e7f334-8549-4663-ba9c-e871658868ca",
   "metadata": {},
   "outputs": [],
   "source": [
    "import category_encoders as ce\n",
    "te = ce.TargetEncoder(cols=['body_type', 'franchise_make', 'fuel_type', 'listing_color', 'model_name'])\n",
    "#jse = ce.JamesSteinEncoder(cols=list(df.select_dtypes(include='object').columns))"
   ]
  },
  {
   "cell_type": "code",
   "execution_count": 24,
   "id": "4cebf9db-3730-4a93-b8f3-eff632fe8112",
   "metadata": {},
   "outputs": [],
   "source": [
    "df1 = te.fit_transform(df.drop(columns='price'), df.price)\n",
    "#dfjse = jse.fit_transform(df.drop(columns='price'), df.price)"
   ]
  },
  {
   "cell_type": "code",
   "execution_count": 25,
   "id": "11983a7e-a1b3-4adb-b31b-0108bcacbb45",
   "metadata": {},
   "outputs": [],
   "source": [
    "from sklearn.linear_model import LinearRegression\n",
    "lr = LinearRegression()"
   ]
  },
  {
   "cell_type": "code",
   "execution_count": 26,
   "id": "c54148fc-20a3-4694-a9e6-421f434f6c62",
   "metadata": {},
   "outputs": [],
   "source": [
    "from sklearn.model_selection import cross_val_score\n",
    "from sklearn.metrics import mean_squared_error"
   ]
  },
  {
   "cell_type": "code",
   "execution_count": 27,
   "id": "c9e555f5-d2ad-48e3-a0a7-b5f29b4ad178",
   "metadata": {},
   "outputs": [
    {
     "data": {
      "text/plain": [
       "6947.970617013512"
      ]
     },
     "execution_count": 27,
     "metadata": {},
     "output_type": "execute_result"
    }
   ],
   "source": [
    "X=df1\n",
    "y=df.price\n",
    "lr = LinearRegression()\n",
    "lr.fit(X,y)\n",
    "yp = lr.predict(X)\n",
    "np.sqrt(mean_squared_error(y,yp))"
   ]
  },
  {
   "cell_type": "code",
   "execution_count": 29,
   "id": "bcf525d4-c1a8-4112-b2b5-d52962665788",
   "metadata": {},
   "outputs": [
    {
     "data": {
      "text/plain": [
       "-6881.873752177661"
      ]
     },
     "execution_count": 29,
     "metadata": {},
     "output_type": "execute_result"
    }
   ],
   "source": [
    "np.mean(cross_val_score(lr, X, y, cv=5 , scoring='neg_root_mean_squared_error'))"
   ]
  },
  {
   "cell_type": "raw",
   "id": "69353166",
   "metadata": {},
   "source": [
    "from sklearn.tree import DecisionTreeRegressor\n",
    "dt = DecisionTreeRegressor()"
   ]
  },
  {
   "cell_type": "raw",
   "id": "9ae6205d",
   "metadata": {},
   "source": [
    "X=df1\n",
    "y=df.price\n",
    "dt.fit(X,y)\n",
    "ypd = dt.predict(X)\n",
    "np.sqrt(mean_squared_error(y,ypd))"
   ]
  },
  {
   "cell_type": "raw",
   "id": "551c6b9e",
   "metadata": {},
   "source": [
    "np.mean(cross_val_score(lr, X, y, cv=kfold , scoring='neg_root_mean_squared_error'))"
   ]
  },
  {
   "cell_type": "code",
   "execution_count": null,
   "id": "37be607a-8130-4c3e-b19c-209ebb8f6cce",
   "metadata": {},
   "outputs": [],
   "source": []
  },
  {
   "cell_type": "markdown",
   "id": "9a01800c-e55b-4936-80ad-3e8e0b3f0bf0",
   "metadata": {},
   "source": [
    "## Pipeline"
   ]
  },
  {
   "cell_type": "raw",
   "id": "0dcc97a8",
   "metadata": {},
   "source": [
    "from sklearn.pipeline import Pipeline\n",
    "from category_encoders import TargetEncoder\n",
    "from sklearn.linear_model import LinearRegression\n",
    "\n",
    "pipe = Pipeline([\n",
    "    ('encoding', TargetEncoder(cols=['body_type', 'franchise_make', 'fuel_type', 'listing_color', 'model_name'])),\n",
    "    ('lin_reg' , LinearRegression())\n",
    "])"
   ]
  },
  {
   "cell_type": "code",
   "execution_count": null,
   "id": "02bad2d7-5f72-4bd0-900c-f759bc442f6a",
   "metadata": {},
   "outputs": [],
   "source": [
    "pipe.fit(X,y)"
   ]
  },
  {
   "cell_type": "markdown",
   "id": "67102975-6a30-45fe-945f-ae39e02719a3",
   "metadata": {},
   "source": [
    "***"
   ]
  },
  {
   "cell_type": "markdown",
   "id": "dc4c61e1-9ed2-4e3b-ad53-954f9ea6c181",
   "metadata": {},
   "source": [
    "## Model Deployment"
   ]
  },
  {
   "cell_type": "markdown",
   "id": "a8a56697-64f0-48e4-adfd-5ee065b92f13",
   "metadata": {},
   "source": [
    "### Saving the Model"
   ]
  },
  {
   "cell_type": "raw",
   "id": "b363118a",
   "metadata": {},
   "source": [
    "import pickle\n",
    "\n",
    "filename = 'used_car_price_finder.pkl'\n",
    "pickle.dump(pipe,open(filename,'wb'))"
   ]
  },
  {
   "cell_type": "code",
   "execution_count": null,
   "id": "89ed2055-bf65-48f8-a29e-302cd71ca942",
   "metadata": {},
   "outputs": [],
   "source": []
  },
  {
   "cell_type": "code",
   "execution_count": 77,
   "id": "caae2416-4afe-4849-b95f-1d92855f6be4",
   "metadata": {},
   "outputs": [
    {
     "data": {
      "text/plain": [
       "12"
      ]
     },
     "execution_count": 77,
     "metadata": {},
     "output_type": "execute_result"
    }
   ],
   "source": [
    "df['No_of_Cylinders'].max()"
   ]
  },
  {
   "cell_type": "code",
   "execution_count": 88,
   "id": "ad478c28-fd7f-4173-8cbf-0251795293e3",
   "metadata": {},
   "outputs": [
    {
     "name": "stdout",
     "output_type": "stream",
     "text": [
      "['back_legroom_(inches)', 'body_type', 'city_fuel_economy', 'daysonmarket', 'engine_displacement', 'franchise_make', 'front_legroom_(inches)', 'fuel_tank_volume_(gallons)', 'fuel_type', 'height_(inches)', 'highway_fuel_economy', 'horsepower', 'is_new', 'length_(inches)', 'listing_color', 'maximum_seating', 'model_name', 'price', 'transmission', 'transmission_display', 'wheel_system', 'wheelbase', 'width_(inches)', 'Torque_lb_ft', 'Vehicle_Age', 'No_of_Cylinders']\n"
     ]
    }
   ],
   "source": [
    "print(list(df.columns))"
   ]
  },
  {
   "cell_type": "markdown",
   "id": "84e73fdf-60cc-43d9-bc25-def8b92a8c32",
   "metadata": {},
   "source": [
    "### Gathering the Codes!"
   ]
  },
  {
   "cell_type": "code",
   "execution_count": null,
   "id": "d6333562-3370-4edc-9d0e-34cf99424cad",
   "metadata": {},
   "outputs": [],
   "source": []
  },
  {
   "cell_type": "code",
   "execution_count": null,
   "id": "56d6ba94",
   "metadata": {},
   "outputs": [],
   "source": [
    "# ['back_legroom_(inches)',\n",
    "#  'body_type',\n",
    "#  'city_fuel_economy',\n",
    "#  'daysonmarket',\n",
    "#  'engine_displacement',\n",
    "#  'franchise_make',\n",
    "#  'front_legroom_(inches)',\n",
    "#  'fuel_tank_volume_(gallons)',\n",
    "#  'fuel_type',\n",
    "#  'height_(inches)',\n",
    "#  'highway_fuel_economy',\n",
    "#  'horsepower',\n",
    "#  'is_new',\n",
    "#  'length_(inches)',\n",
    "#  'listing_color',\n",
    "#  'maximum_seating',\n",
    "#  'model_name',\n",
    "#  'price',\n",
    "#  'transmission',\n",
    "#  'transmission_display',\n",
    "#  'wheel_system',\n",
    "#  'wheelbase',\n",
    "#  'width_(inches)',\n",
    "#  'Torque_lb_ft',\n",
    " 'Vehicle_Age',\n",
    "#  'No_of_Cylinders']"
   ]
  },
  {
   "cell_type": "code",
   "execution_count": 131,
   "id": "7ba5b81f",
   "metadata": {},
   "outputs": [
    {
     "name": "stdout",
     "output_type": "stream",
     "text": [
      "Overwriting app.py\n"
     ]
    }
   ],
   "source": [
    "%%writefile app.py\n",
    "import streamlit as st\n",
    "import pandas as pd\n",
    "import numpy as np\n",
    "from sklearn.pipeline import Pipeline\n",
    "from category_encoders import TargetEncoder #Encoding\n",
    "from sklearn.linear_model import LinearRegression #Model\n",
    "import pickle #Importing Pipeline\n",
    "pipe = pickle.load(open('used_car_price_finder.pkl' , 'rb'))\n",
    "\n",
    "# Interface Building\n",
    "st.title('Used Car Price Prediction App')\n",
    "st.subheader('By Mayur Shrotriya')\n",
    "\n",
    "st.sidebar.image(\"https://encrypted-tbn0.gstatic.com/images?q=tbn:ANd9GcTKSiEsPKQAUEEk7kmEy1Rb7YotukM86O286A&usqp=CAU\",width=150)\n",
    "st.sidebar.markdown(\"[Connect with me on Linkedin!](https://www.linkedin.com/in/mayur-shrotriya-b45133142/)\")\n",
    "\n",
    "\n",
    "is_new = st.radio('Is the car new?',['Yes', 'No'])\n",
    "if is_new == 'Yes':\n",
    "    is_new = 1\n",
    "else:\n",
    "    is_new = 0\n",
    "    \n",
    "franchise_make = st.selectbox('Make', ['Chevrolet', 'Jeep', 'Cadillac', 'Chrysler', 'Dodge', 'Kia', 'RAM',\n",
    "                                                               'Mazda', 'Audi', 'Hyundai', 'Ford', 'Toyota', 'Lincoln', 'Volvo',\n",
    "                                                               'GMC', 'Volkswagen', 'BMW', 'Lexus', 'Buick', 'Subaru', 'Scion',\n",
    "                                                               'Honda', 'Acura', 'Nissan', 'INFINITI', 'Rolls-Royce', 'Bentley',\n",
    "                                                               'Porsche', 'Mercedes-Benz', 'Jaguar', 'Land Rover', 'Maserati',\n",
    "                                                               'Alfa Romeo', 'MINI', 'FIAT', 'Mitsubishi', 'Aston Martin',\n",
    "                                                               'McLaren', 'Genesis', 'SRT', 'Lamborghini', 'Ferrari', 'Lotus',\n",
    "                                                               'Shelby'])\n",
    "model_name = st.selectbox('Model Name' , ['1 Series', '1500', '1M', '2 Series', '200', '3 Series', '3 Series Gran Turismo', '300', '3000GT', '300M', '4 Series', '4Runner', '5 Series', '5 Series Gran Turismo', '500', '500L', '500X', '6 Series', '6 Series Gran Turismo', '626', '7 Series', '8 Series', '86', '9-3', '9-3 SportCombi', '9-5', '9-7X', 'A-Class', 'A3', 'A4', 'A4 Allroad', 'A4 Avant', 'A5', 'A5 Sportback', 'A6', 'A6 Allroad', 'A7', 'A8', 'ATS', 'ATS Coupe', 'ATS-V', 'ATS-V Coupe', 'Acadia', 'Accent', 'Accord', 'Accord Coupe', 'Accord Crosstour', 'Accord Hybrid', 'ActiveHybrid 3', 'ActiveHybrid 7', 'Alero', 'Altima', 'Altima Coupe', 'Amanti', 'Armada', 'Arteon', 'Ascent', 'Aspen', 'Astra', 'Astro', 'Aura', 'Aurora', 'Avalanche', 'Avalon', 'Avenger', 'Aveo', 'Aviator', 'Azera', 'Aztek', 'B-Series', 'B9 Tribeca', 'BRZ', 'Baja', 'Beetle', 'Bentayga', 'Bentayga Hybrid', 'Blackwood', 'Blazer', 'Bonneville', 'Borrego', 'Bravada', 'C-Class', 'C-HR', 'C30', 'C70', 'CC', 'CL', 'CL-Class', 'CLA-Class', 'CLK-Class', 'CLS-Class', 'CR-V', 'CT4', 'CT5', 'CT6', 'CTS', 'CTS Coupe', 'CTS Sport Wagon', 'CTS-V', 'CTS-V Coupe', 'CTS-V Wagon', 'CX-3', 'CX-30', 'CX-5', 'CX-7', 'CX-9', 'Cabrio', 'Cadenza', 'Caliber', 'Camaro', 'Camry', 'Camry Solara', 'Canyon', 'Captiva Sport', 'Caravan', 'Cavalier', 'Cayenne', 'Celica', 'Century', 'Challenger', 'Charger', 'Cherokee', 'Civic', 'Civic Coupe', 'Civic Hatchback', 'Civic Hybrid', 'Civic Type R', 'Classic', 'Cobalt', 'Colorado', 'Commander', 'Compass', 'Concorde', 'Continental', 'Continental Flying Spur', 'Continental GT', 'Continental GTC', 'Continental Supersports', 'Cooper', 'Cooper Clubman', 'Cooper Paceman', 'Corolla', 'Corolla Hatchback', 'Corolla iM', 'Corsair', 'Countryman', 'Crosstour', 'Crosstrek', 'Crosstrek Hybrid', 'Crown Victoria', 'Cruze', 'Cruze Limited', 'Cube', 'DB9', 'DTS', 'Dakota', 'Dart', 'Dawn', 'DeVille', 'Defender', 'Diamante', 'Discovery', 'Discovery Sport', 'Durango', 'E-Class', 'E-PACE', 'E-Series', 'ECHO', 'ES', 'ES 300', 'ES 330', 'ES 350', 'EX35', 'Eclipse', 'Eclipse Spyder', 'EcoSport', 'Edge', 'Eighty-Eight Royale', 'Elantra', 'Elantra Coupe', 'Elantra GT', 'Elantra Touring', 'Eldorado', 'Element', 'Enclave', 'Encore', 'Encore GX', 'Endeavor', 'Entourage', 'Envision', 'Envoy', 'Envoy XL', 'Envoy XUV', 'Eos', 'Equator', 'Equinox', 'Equus', 'Escalade', 'Escalade ESV', 'Escalade EXT', 'Escape', 'Escape Hybrid', 'Escort', 'EuroVan', 'Expedition', 'Explorer', 'Explorer Hybrid', 'Explorer Sport', 'Explorer Sport Trac', 'Express', 'F-150', 'F-PACE', 'FJ Cruiser', 'FR-S', 'FX35', 'FX50', 'Fiesta', 'Firebird', 'Fit', 'Five Hundred', 'Fleetwood', 'Flex', 'Flying Spur', 'Focus', 'Focus RS', 'Forenza', 'Forester', 'Forte', 'Forte Koup', 'Forte5', 'Freestar', 'Freestyle', 'Frontier', 'Fusion', 'G-Class', 'G25', 'G3', 'G35', 'G37', 'G5', 'G6', 'G70', 'G8', 'G80', 'G90', 'GL-Class', 'GLA-Class', 'GLB-Class', 'GLC-Class', 'GLE-Class', 'GLK-Class', 'GLS-Class', 'GS', 'GS 200t', 'GS 300', 'GS 350', 'GS 430', 'GS F', 'GT-R', 'GTI', 'GTO', 'GX', 'GX 470', 'Galant', 'Genesis', 'Genesis Coupe', 'Ghibli', 'Ghost', 'Giulia', 'Gladiator', 'Golf', 'Golf Alltrack', 'Golf R', 'Golf SportWagen', 'GranTurismo', 'Grand Am', 'Grand Caravan', 'Grand Cherokee', 'Grand Marquis', 'Grand Prix', 'Grand Vitara', 'Grand Wagoneer', 'H3', 'H3T', 'HHR', 'HR-V', 'Highlander', 'I30', 'ILX', 'ILX Hybrid', 'ION', 'IPL G', 'IS', 'IS 250', 'IS 350', 'Impala', 'Impala Limited', 'Impreza', 'Impreza WRX', 'Impreza WRX STI', 'Intrepid', 'Intrigue', 'JX35', 'Jetta', 'Jetta GLI', 'Jetta Hybrid', 'Jetta SportWagen', 'Jimmy', 'Journey', 'Juke', 'K5', 'K900', 'Kicks', 'Kizashi', 'Kona', 'L-Series', 'L300', 'LC', 'LHS', 'LR2', 'LR3', 'LR4', 'LS', 'LS 400', 'LS 430', 'LS 460', 'LS 500', 'LX', 'LX 470', 'LX 570', 'LaCrosse', 'Lancer', 'Lancer Evolution', 'Lancer Sportback', 'Land Cruiser', 'LeSabre', 'Legacy', 'Liberty', 'Lucerne', 'Lumina', 'M-Class', 'M2', 'M3', 'M30', 'M35', 'M37', 'M4', 'M45', 'M5', 'M56', 'M6', 'M8', 'MAZDA2', 'MAZDA3', 'MAZDA5', 'MAZDA6', 'MAZDASPEED3', 'MAZDASPEED6', 'MDX', 'MKC', 'MKS', 'MKT', 'MKX', 'MKZ', 'MPV', 'Magnum', 'Malibu', 'Malibu Maxx', 'Mariner', 'Mariner Hybrid', 'Mark LT', 'Mark VIII', 'Matrix', 'Maxima', 'Metris', 'Milan', 'Mirage', 'Mirage G4', 'Montana', 'Montana SV6', 'Monte Carlo', 'Montego', 'Monterey', 'Montero', 'Montero Sport', 'Mountaineer', 'Mulsanne', 'Murano', 'Murano CrossCabriolet', 'Mustang', 'Mustang SVT Cobra', 'Mustang Shelby GT350', 'Mustang Shelby GT500', 'NX', 'NX 200t', 'Nautilus', 'Navigator', 'Neon', 'Neon SRT-4', 'Nitro', 'Odyssey', 'Optima', 'Optima Hybrid', 'Outback', 'Outlander', 'Outlander Sport', 'Outlook', 'PT Cruiser', 'Pacifica', 'Palisade', 'Panamera', 'Panamera Hybrid', 'Park Avenue', 'Passat', 'Passport', 'Pathfinder', 'Patriot', 'Phantom', 'Phantom Drophead Coupe', 'Pilot', 'Prelude', 'Prizm', 'ProMaster City', 'Protege5', 'Q3', 'Q40', 'Q5', 'Q50', 'Q60', 'Q7', 'Q70', 'Q70 Hybrid', 'Q70L', 'Q8', 'QX30', 'QX4', 'QX50', 'QX56', 'QX60', 'QX80', 'Quest', 'R-Class', 'R32', 'RAM 1500', 'RAV4', 'RC', 'RC 200t', 'RC 300', 'RC 350', 'RC F', 'RDX', 'RL', 'RLX Hybrid Sport', 'RS 3', 'RS 5', 'RS 5 Sportback', 'RS 7', 'RSX', 'RX', 'RX 300', 'RX 330', 'RX 350', 'RX-8', 'Rabbit', 'Raider', 'Rainier', 'Range Rover', 'Range Rover Evoque', 'Range Rover Hybrid', 'Range Rover Hybrid Plug-in', 'Range Rover Sport', 'Range Rover Velar', 'Ranger', 'Rapide', 'Regal', 'Regal Sportback', 'Regal TourX', 'Regency', 'Rendezvous', 'Renegade', 'Reno', 'Ridgeline', 'Rio', 'Rio5', 'Roadmaster', 'Rodeo', 'Rogue', 'Rogue Select', 'Rogue Sport', 'Rondo', 'Routan', 'S-10', 'S-Class', 'S-Class Coupe', 'S-Series', 'S-TYPE', 'S-TYPE R', 'S3', 'S4', 'S40', 'S5', 'S5 Sportback', 'S6', 'S60', 'S7', 'S8', 'S80', 'S90', 'SC 430', 'SQ5', 'SRX', 'SS', 'STS', 'SX4', 'Sable', 'Safari', 'Santa Fe', 'Santa Fe Sport', 'Santa Fe XL', 'Savana', 'Sebring', 'Sedona', 'Seltos', 'Sentra', 'Sequoia', 'Seville', 'Sienna', 'Sierra 1500', 'Sierra 1500 Limited', 'Sierra 1500HD', 'Sierra 2500HD', 'Sierra Classic 1500', 'Silhouette', 'Silverado 1500', 'Silverado 1500HD', 'Silverado Classic 1500', 'Silverado Classic 1500HD', 'Skylark', 'Sonata', 'Sonata Hybrid', 'Sonic', 'Sonoma', 'Sorento', 'Soul', 'Spark', 'Spectra', 'Sportage', 'Stealth', 'Stelvio', 'Stinger', 'Stratus', 'Suburban', 'Sunfire', 'Supra', 'TL', 'TLX', 'TSX', 'TT', 'TT RS', 'TTS', 'Tacoma', 'Tahoe', 'Taurus', 'Taurus X', 'Telluride', 'Terrain', 'Terraza', 'Tiburon', 'Tiguan', 'Titan', 'Torrent', 'Touareg', 'Touareg 2', 'Town & Country', 'Town Car', 'Tracker', 'Trailblazer', 'Trailblazer EXT', 'Transit Connect', 'Transit Crew', 'Transit Passenger', 'Traverse', 'Trax', 'Tribeca', 'Tribute', 'Trooper', 'Tucson', 'Tundra', 'UX', 'Uplander', 'V50', 'V60', 'V70', 'V90', 'VUE', 'Veloster', 'Veloster N', 'Veloster Turbo', 'Venture', 'Venue', 'Venza', 'Veracruz', 'Verano', 'Verona', 'Versa', 'Versa Note', 'Vibe', 'Vitara', 'Voyager', 'WRX', 'WRX STI', 'Windstar', 'Wraith', 'Wrangler', 'Wrangler Unlimited', 'X-TYPE', 'X1', 'X2', 'X3', 'X3 M', 'X4', 'X4 M', 'X5', 'X5 M', 'X6', 'X6 M', 'X7', 'XC40', 'XC60', 'XC70', 'XC90', 'XE', 'XF', 'XF Sportbrake', 'XG350', 'XJ-Series', 'XK-Series', 'XL-7', 'XT4', 'XT5', 'XT6', 'XTS', 'XV Crosstrek Hybrid', 'Xterra', 'Yaris', 'Yaris iA', 'Yukon', 'Yukon XL', 'ZDX', 'Zephyr', 'iA', 'iM', 'tC', 'xA', 'xB', 'xD'])\n",
    "body_type    = st.selectbox('Select the Body Type of Vehicle', ['Sedan', 'Coupe', 'SUV / Crossover', 'Pickup Truck', 'Wagon', 'Minivan', 'Convertible', 'Hatchback', 'Van'])\n",
    "color      = st.selectbox('Color', ['SILVER', 'BLACK', 'RED', 'WHITE', 'UNKNOWN', 'BLUE', 'GRAY', 'BROWN', 'YELLOW', 'ORANGE', 'GREEN', 'PURPLE', 'TEAL', 'GOLD', 'PINK'])\n",
    "\n",
    "\n",
    "front_legroom = st.number_input('Front Legroom (in Inches)', max_value = 80)\n",
    "back_legroom = st.number_input('Back Legroom (in Inches)', max_value = 80)\n",
    "\n",
    "\n",
    "length       = st.number_input('Length of Vehicle', max_value=300)\n",
    "width        = st.number_input('Width of Vehicle', max_value=120)\n",
    "height       = st.number_input('Height of Vehicle', max_value=120)\n",
    "max_seating  = st.number_input('Maximum no. of Seats',max_value=20)\n",
    "\n",
    "\n",
    "city_fuel_economy = st.number_input('City Fuel Economy', max_value = 100)\n",
    "highway_fuel_economy = st.number_input('Highway Fuel Economy', max_value = 100)\n",
    "engine_displacement = st.number_input('Engine Displacement', max_value = 10000)\n",
    "fuel_tank_volume = st.number_input('Fuel Tank Volume', max_value=60)\n",
    "fuel_type = st.selectbox('Fuel Type', ['Gasoline', 'Flex Fuel Vehicle', 'Diesel', 'Hybrid', 'Biodiesel', 'Compressed Natural Gas'])\n",
    "\n",
    "transmission = st.selectbox('Transmission Type', ['A', 'CVT' , 'M', 'Dual Clutch'])\n",
    "\n",
    "transmission = 3 if transmission == 'A' else 2 if transmission == 'CVT' else 1 if transmission == 'M' else 0\n",
    "\n",
    "transmission_display = st.selectbox('Transmission Display Type', ['6-Speed Automatic', '9-Speed Automatic', '8-Speed Automatic', '6-Speed Manual', '6-Speed Automatic Overdrive', '5-Speed Automatic', 'Continuously Variable Transmission', 'Automatic', '7-Speed Automatic', '4-Speed Automatic', 'Manual', '6-Speed Dual Clutch', '7-Speed Dual Clutch', '5-Speed Manual', '7-Speed CVT', '8-Speed CVT', '6-Speed CVT', '8-Speed Dual Clutch', '9-Speed Automatic Overdrive', '10-Speed Automatic', '8-Speed Manual', '8-Speed Automatic Overdrive', '5-Speed Automatic Overdrive', '5-Speed Manual Overdrive', '4-Speed Automatic Overdrive', '7-Speed Automatic Overdrive', '6-Speed Manual Overdrive', '3-Speed Automatic', '4-Speed Manual', '1-Speed CVT'])\n",
    "i = transmission_display\n",
    "f = ''\n",
    "if i[0].isdigit():\n",
    "    for j in i:\n",
    "        if j.isdigit():\n",
    "            f += j\n",
    "elif i == 'Manual':\n",
    "    f = 0\n",
    "elif i == 'Continuously Variable Transmission':\n",
    "    f = 1\n",
    "elif i == 'Automatic':\n",
    "    f = 2\n",
    "transmission_display = f\n",
    "\n",
    "\n",
    "wheel_system = st.selectbox('Wheel System', ['FWD', 'AWD', '4WD', 'RWD', '4X2'])\n",
    "wheel_system = 2 if wheel_system == 'AWD' else 1 if wheel_system == '4WD' else 0\n",
    "\n",
    "\n",
    "wheelbase = st.number_input('Wheel Base in Inches', max_value = 180)\n",
    "horsepower = st.slider('HorsePower', max_value = 1000)\n",
    "torque = st.slider('Torque (in lb/ft)', max_value = 1000)\n",
    "no_of_cylinders = st.number_input('No. of Cylinders', max_value = 12)\n",
    "\n",
    "\n",
    "vehicle_age = st.number_input('Age of the Vehicle (in Years)')\n",
    "daysonmarket = st.number_input('Days on Market i.e. Days difference between today & Listing Date')\n",
    "\n",
    "X = pd.DataFrame(\n",
    "[[back_legroom, body_type, city_fuel_economy, daysonmarket, engine_displacement, franchise_make, front_legroom,\n",
    "  fuel_tank_volume, fuel_type, height, highway_fuel_economy, horsepower, is_new, length, color, max_seating,\n",
    "  model_name, transmission, transmission_display, wheel_system, wheelbase, width,torque,vehicle_age, no_of_cylinders]] , \n",
    "    columns = ['back_legroom_(inches)', 'body_type', 'city_fuel_economy', 'daysonmarket', 'engine_displacement', 'franchise_make', 'front_legroom_(inches)', 'fuel_tank_volume_(gallons)', 'fuel_type', 'height_(inches)', 'highway_fuel_economy', 'horsepower', 'is_new', 'length_(inches)', 'listing_color', 'maximum_seating', 'model_name', 'transmission', 'transmission_display', 'wheel_system', 'wheelbase', 'width_(inches)', 'Torque_lb_ft', 'Vehicle_Age', 'No_of_Cylinders'])\n",
    "\n",
    "st.write(X)\n",
    "\n",
    "price = pipe.predict(X)\n",
    "prediction = \"The Price of the car should be between \"+ str(round(price[0]  + 500 ,2)) +' and '+ str(round(price[0] - 500, 2)) + ' USD'\n",
    "\n",
    "if st.button('Predict Price of the Car'):\n",
    "    st.success(prediction)\n",
    "\n"
   ]
  },
  {
   "cell_type": "markdown",
   "id": "c9a88195",
   "metadata": {},
   "source": []
  },
  {
   "cell_type": "code",
   "execution_count": null,
   "id": "1e8a6f2f",
   "metadata": {},
   "outputs": [],
   "source": []
  }
 ],
 "metadata": {
  "kernelspec": {
   "display_name": "Python 3 (ipykernel)",
   "language": "python",
   "name": "python3"
  },
  "language_info": {
   "codemirror_mode": {
    "name": "ipython",
    "version": 3
   },
   "file_extension": ".py",
   "mimetype": "text/x-python",
   "name": "python",
   "nbconvert_exporter": "python",
   "pygments_lexer": "ipython3",
   "version": "3.8.13"
  }
 },
 "nbformat": 4,
 "nbformat_minor": 5
}
